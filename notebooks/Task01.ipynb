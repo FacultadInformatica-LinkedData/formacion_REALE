{
  "cells": [
    {
      "cell_type": "markdown",
      "metadata": {
        "id": "AWikSwbrWIXK"
      },
      "source": [
        "**Task 01: Reading and writing RDF files**"
      ]
    },
    {
      "cell_type": "markdown",
      "metadata": {
        "id": "70tP7Rc1c-XK"
      },
      "source": [
        "Reading and writing files with triples is easy in RDFlib. We will use 2 methods from the library: parse and serialize"
      ]
    },
    {
      "cell_type": "code",
      "execution_count": 1,
      "metadata": {
        "colab": {
          "base_uri": "https://localhost:8080/"
        },
        "id": "tRpigrTicjCp",
        "outputId": "c59af6ba-28dd-42b1-ffc0-29a0e69fc613"
      },
      "outputs": [
        {
          "output_type": "stream",
          "name": "stdout",
          "text": [
            "Looking in indexes: https://pypi.org/simple, https://us-python.pkg.dev/colab-wheels/public/simple/\n",
            "Collecting rdflib\n",
            "  Downloading rdflib-6.2.0-py3-none-any.whl (500 kB)\n",
            "\u001b[K     |████████████████████████████████| 500 kB 8.2 MB/s \n",
            "\u001b[?25hCollecting isodate\n",
            "  Downloading isodate-0.6.1-py2.py3-none-any.whl (41 kB)\n",
            "\u001b[K     |████████████████████████████████| 41 kB 531 kB/s \n",
            "\u001b[?25hRequirement already satisfied: pyparsing in /usr/local/lib/python3.8/dist-packages (from rdflib) (3.0.9)\n",
            "Requirement already satisfied: setuptools in /usr/local/lib/python3.8/dist-packages (from rdflib) (57.4.0)\n",
            "Requirement already satisfied: six in /usr/local/lib/python3.8/dist-packages (from isodate->rdflib) (1.15.0)\n",
            "Installing collected packages: isodate, rdflib\n",
            "Successfully installed isodate-0.6.1 rdflib-6.2.0\n"
          ]
        }
      ],
      "source": [
        "!pip install rdflib\n",
        "github_storage = \"https://raw.githubusercontent.com/FacultadInformatica-LinkedData/formacion_REALE/main\""
      ]
    },
    {
      "cell_type": "code",
      "execution_count": 2,
      "metadata": {
        "id": "GzJopjNmdzDu"
      },
      "outputs": [],
      "source": [
        "from rdflib import Graph, Namespace, Literal\n",
        "g = Graph()"
      ]
    },
    {
      "cell_type": "markdown",
      "metadata": {
        "id": "cxZdZ6jveaUz"
      },
      "source": [
        "We can add triples to our graph using serialize, which will read the provided resource. We have to indicate the format, as it does not infer it.\n"
      ]
    },
    {
      "cell_type": "code",
      "execution_count": 3,
      "metadata": {
        "colab": {
          "base_uri": "https://localhost:8080/"
        },
        "id": "abJYz_Bqerp3",
        "outputId": "a0e0412b-643f-4e9f-a6e1-629227027472"
      },
      "outputs": [
        {
          "output_type": "execute_result",
          "data": {
            "text/plain": [
              "<Graph identifier=Nd83c8bbbff2c4b0892fc0291dd8bc012 (<class 'rdflib.graph.Graph'>)>"
            ]
          },
          "metadata": {},
          "execution_count": 3
        }
      ],
      "source": [
        "g.parse(github_storage+\"/rdf/example1.rdf\", format=\"xml\")"
      ]
    },
    {
      "cell_type": "markdown",
      "metadata": {
        "id": "e1XLg8xrestH"
      },
      "source": [
        "The reosurce may be local or remote. The result is the same. We can add all the data we want to out graph, the triples will keep merging into the graph.\n"
      ]
    },
    {
      "cell_type": "code",
      "execution_count": 4,
      "metadata": {
        "colab": {
          "base_uri": "https://localhost:8080/"
        },
        "id": "WCMS6ZGVhsD1",
        "outputId": "befeefd3-9373-4602-f549-c5cb0fa5c403"
      },
      "outputs": [
        {
          "output_type": "execute_result",
          "data": {
            "text/plain": [
              "<Graph identifier=Nd83c8bbbff2c4b0892fc0291dd8bc012 (<class 'rdflib.graph.Graph'>)>"
            ]
          },
          "metadata": {},
          "execution_count": 4
        }
      ],
      "source": [
        "g.parse(github_storage+\"/rdf/example2.rdf\", format=\"xml\")"
      ]
    },
    {
      "cell_type": "markdown",
      "metadata": {
        "id": "1v_SBIp8fEVA"
      },
      "source": [
        "Now we can check the result printing all triples"
      ]
    },
    {
      "cell_type": "code",
      "execution_count": 5,
      "metadata": {
        "colab": {
          "base_uri": "https://localhost:8080/"
        },
        "id": "GSW6P7XXfBHj",
        "outputId": "9ea0bbef-ac39-4e2f-9463-d02bd25336b5"
      },
      "outputs": [
        {
          "output_type": "stream",
          "name": "stdout",
          "text": [
            "http://somewhere/MattJones http://xmlns.com/foaf/0.1/knows http://somewhere/JaneSmith\n",
            "http://somewhere/SarahJones http://www.w3.org/2001/vcard-rdf/3.0#FN Sarah Jones\n",
            "http://somewhere/JohnSmith http://www.w3.org/2001/vcard-rdf/3.0#Family Smith\n",
            "http://somewhere/MattJones http://www.w3.org/2001/vcard-rdf/3.0#Given Matt\n",
            "http://somewhere/SarahJones http://www.w3.org/2001/vcard-rdf/3.0#Given Sarah\n",
            "http://somewhere/JohnSmith http://www.w3.org/2001/vcard-rdf/3.0#FN John Smith\n",
            "http://somewhere/SarahJones http://xmlns.com/foaf/0.1/email sJones@somewhere.com\n",
            "http://somewhere/MattJones http://www.w3.org/2001/vcard-rdf/3.0#Family Jones\n",
            "http://somewhere/JohnSmith http://www.w3.org/2001/vcard-rdf/3.0#Given John\n",
            "http://somewhere/MattJones http://www.w3.org/2001/vcard-rdf/3.0#FN Matt Jones\n",
            "http://somewhere/SarahJones http://www.w3.org/2001/vcard-rdf/3.0#Family Jones\n"
          ]
        }
      ],
      "source": [
        "for subj, pred, obj in g:\n",
        "  print(subj,pred,obj)"
      ]
    },
    {
      "cell_type": "markdown",
      "metadata": {
        "id": "5oxiNgJhfYnm"
      },
      "source": [
        "We can easily convert between formats too"
      ]
    },
    {
      "cell_type": "code",
      "execution_count": 6,
      "metadata": {
        "colab": {
          "base_uri": "https://localhost:8080/"
        },
        "id": "UfjimlObfWIK",
        "outputId": "2b455d7e-b24c-408f-bd65-7744c1690fc5"
      },
      "outputs": [
        {
          "output_type": "stream",
          "name": "stdout",
          "text": [
            "@prefix foaf: <http://xmlns.com/foaf/0.1/> .\n",
            "@prefix vcard: <http://www.w3.org/2001/vcard-rdf/3.0#> .\n",
            "@prefix xsd: <http://www.w3.org/2001/XMLSchema#> .\n",
            "\n",
            "<http://somewhere/JohnSmith> vcard:FN \"John Smith\"^^xsd:string ;\n",
            "    vcard:Family \"Smith\"^^xsd:string ;\n",
            "    vcard:Given \"John\"^^xsd:string .\n",
            "\n",
            "<http://somewhere/MattJones> vcard:FN \"Matt Jones\"^^xsd:string ;\n",
            "    vcard:Family \"Jones\"^^xsd:string ;\n",
            "    vcard:Given \"Matt\"^^xsd:string ;\n",
            "    foaf:knows <http://somewhere/JaneSmith> .\n",
            "\n",
            "<http://somewhere/SarahJones> vcard:FN \"Sarah Jones\"^^xsd:string ;\n",
            "    vcard:Family \"Jones\"^^xsd:string ;\n",
            "    vcard:Given \"Sarah\"^^xsd:string ;\n",
            "    foaf:email \"sJones@somewhere.com\"^^xsd:string .\n",
            "\n",
            "\n"
          ]
        }
      ],
      "source": [
        "print(g.serialize(format=\"ttl\"))\n"
      ]
    },
    {
      "cell_type": "code",
      "execution_count": 7,
      "metadata": {
        "colab": {
          "base_uri": "https://localhost:8080/"
        },
        "id": "Yfd-Nj5TfghY",
        "outputId": "9d11c24f-f54d-4d4c-f37d-3a1bf2fccb13"
      },
      "outputs": [
        {
          "output_type": "stream",
          "name": "stdout",
          "text": [
            "<?xml version=\"1.0\" encoding=\"utf-8\"?>\n",
            "<rdf:RDF\n",
            "   xmlns:foaf=\"http://xmlns.com/foaf/0.1/\"\n",
            "   xmlns:rdf=\"http://www.w3.org/1999/02/22-rdf-syntax-ns#\"\n",
            "   xmlns:vcard=\"http://www.w3.org/2001/vcard-rdf/3.0#\"\n",
            ">\n",
            "  <rdf:Description rdf:about=\"http://somewhere/MattJones\">\n",
            "    <vcard:FN rdf:datatype=\"http://www.w3.org/2001/XMLSchema#string\">Matt Jones</vcard:FN>\n",
            "    <vcard:Given rdf:datatype=\"http://www.w3.org/2001/XMLSchema#string\">Matt</vcard:Given>\n",
            "    <vcard:Family rdf:datatype=\"http://www.w3.org/2001/XMLSchema#string\">Jones</vcard:Family>\n",
            "    <foaf:knows rdf:resource=\"http://somewhere/JaneSmith\"/>\n",
            "  </rdf:Description>\n",
            "  <rdf:Description rdf:about=\"http://somewhere/SarahJones\">\n",
            "    <vcard:FN rdf:datatype=\"http://www.w3.org/2001/XMLSchema#string\">Sarah Jones</vcard:FN>\n",
            "    <vcard:Given rdf:datatype=\"http://www.w3.org/2001/XMLSchema#string\">Sarah</vcard:Given>\n",
            "    <vcard:Family rdf:datatype=\"http://www.w3.org/2001/XMLSchema#string\">Jones</vcard:Family>\n",
            "    <foaf:email rdf:datatype=\"http://www.w3.org/2001/XMLSchema#string\">sJones@somewhere.com</foaf:email>\n",
            "  </rdf:Description>\n",
            "  <rdf:Description rdf:about=\"http://somewhere/JohnSmith\">\n",
            "    <vcard:FN rdf:datatype=\"http://www.w3.org/2001/XMLSchema#string\">John Smith</vcard:FN>\n",
            "    <vcard:Given rdf:datatype=\"http://www.w3.org/2001/XMLSchema#string\">John</vcard:Given>\n",
            "    <vcard:Family rdf:datatype=\"http://www.w3.org/2001/XMLSchema#string\">Smith</vcard:Family>\n",
            "  </rdf:Description>\n",
            "</rdf:RDF>\n",
            "\n"
          ]
        }
      ],
      "source": [
        "print(g.serialize(format=\"xml\"))\n"
      ]
    },
    {
      "cell_type": "markdown",
      "metadata": {
        "id": "5sQtCm1CgIvS"
      },
      "source": [
        "And save the results in a file"
      ]
    },
    {
      "cell_type": "code",
      "execution_count": 8,
      "metadata": {
        "colab": {
          "base_uri": "https://localhost:8080/"
        },
        "id": "kdKGU118fiuy",
        "outputId": "297076a9-503f-422f-d4c4-7e98203079f9"
      },
      "outputs": [
        {
          "output_type": "execute_result",
          "data": {
            "text/plain": [
              "<Graph identifier=Nd83c8bbbff2c4b0892fc0291dd8bc012 (<class 'rdflib.graph.Graph'>)>"
            ]
          },
          "metadata": {},
          "execution_count": 8
        }
      ],
      "source": [
        "g.serialize(\"example1.ttl\", format=\"ttl\")"
      ]
    }
  ],
  "metadata": {
    "colab": {
      "provenance": []
    },
    "kernelspec": {
      "display_name": "Python 3 (ipykernel)",
      "language": "python",
      "name": "python3"
    },
    "language_info": {
      "codemirror_mode": {
        "name": "ipython",
        "version": 3
      },
      "file_extension": ".py",
      "mimetype": "text/x-python",
      "name": "python",
      "nbconvert_exporter": "python",
      "pygments_lexer": "ipython3",
      "version": "3.9.5"
    }
  },
  "nbformat": 4,
  "nbformat_minor": 0
}