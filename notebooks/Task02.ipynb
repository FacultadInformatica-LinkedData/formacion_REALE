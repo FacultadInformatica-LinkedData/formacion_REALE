{
  "cells": [
    {
      "cell_type": "markdown",
      "metadata": {
        "id": "mykrL5dzjdZd"
      },
      "source": [
        "**Task 02: Managing statements**"
      ]
    },
    {
      "cell_type": "markdown",
      "metadata": {
        "id": "LnByOT0rjr5G"
      },
      "source": [
        "We start with an empty graph"
      ]
    },
    {
      "cell_type": "code",
      "execution_count": 1,
      "metadata": {
        "colab": {
          "base_uri": "https://localhost:8080/"
        },
        "id": "iOqfw6cYjdKg",
        "outputId": "1f82fbf7-8398-43f6-f1d9-abf0f11901e7"
      },
      "outputs": [
        {
          "output_type": "stream",
          "name": "stdout",
          "text": [
            "Looking in indexes: https://pypi.org/simple, https://us-python.pkg.dev/colab-wheels/public/simple/\n",
            "Collecting rdflib\n",
            "  Downloading rdflib-6.2.0-py3-none-any.whl (500 kB)\n",
            "\u001b[K     |████████████████████████████████| 500 kB 4.4 MB/s \n",
            "\u001b[?25hRequirement already satisfied: pyparsing in /usr/local/lib/python3.8/dist-packages (from rdflib) (3.0.9)\n",
            "Requirement already satisfied: setuptools in /usr/local/lib/python3.8/dist-packages (from rdflib) (57.4.0)\n",
            "Collecting isodate\n",
            "  Downloading isodate-0.6.1-py2.py3-none-any.whl (41 kB)\n",
            "\u001b[K     |████████████████████████████████| 41 kB 627 kB/s \n",
            "\u001b[?25hRequirement already satisfied: six in /usr/local/lib/python3.8/dist-packages (from isodate->rdflib) (1.15.0)\n",
            "Installing collected packages: isodate, rdflib\n",
            "Successfully installed isodate-0.6.1 rdflib-6.2.0\n"
          ]
        }
      ],
      "source": [
        "!pip install rdflib\n",
        "github_storage = \"https://raw.githubusercontent.com/FacultadInformatica-LinkedData/formacion_REALE/main\""
      ]
    },
    {
      "cell_type": "code",
      "execution_count": 2,
      "metadata": {
        "id": "hoa1F3UZjPJB"
      },
      "outputs": [],
      "source": [
        "from rdflib import Graph, Namespace, Literal\n",
        "g = Graph()"
      ]
    },
    {
      "cell_type": "markdown",
      "metadata": {
        "id": "DZPMjhmnjxVO"
      },
      "source": [
        "We create the resource \"John Smith\" with his full name\n"
      ]
    },
    {
      "cell_type": "code",
      "execution_count": 3,
      "metadata": {
        "id": "mFRCCFmTkG6S"
      },
      "outputs": [],
      "source": [
        "fullName = Literal(\"John Smith\")\n",
        "EX = Namespace(\"http://example.org/\")\n",
        "johnURI = EX.JohnSmith"
      ]
    },
    {
      "cell_type": "markdown",
      "metadata": {
        "id": "u8i7EOwZlPGi"
      },
      "source": [
        "We generate the property"
      ]
    },
    {
      "cell_type": "code",
      "execution_count": 4,
      "metadata": {
        "colab": {
          "base_uri": "https://localhost:8080/"
        },
        "id": "iocF6ceGlJL3",
        "outputId": "6aa48ec4-f644-47c9-97f8-5a5340eedf4a"
      },
      "outputs": [
        {
          "output_type": "stream",
          "name": "stdout",
          "text": [
            "(rdflib.term.URIRef('http://example.org/JohnSmith'), rdflib.term.URIRef('http://www.w3.org/2001/vcard-rdf/3.0#FN'), rdflib.term.Literal('John Smith'))\n"
          ]
        },
        {
          "output_type": "execute_result",
          "data": {
            "text/plain": [
              "<Graph identifier=Ndffbe82435b44e9c8f917956ce8a7765 (<class 'rdflib.graph.Graph'>)>"
            ]
          },
          "metadata": {},
          "execution_count": 4
        }
      ],
      "source": [
        "VCARD = Namespace(\"http://www.w3.org/2001/vcard-rdf/3.0#\")\n",
        "\n",
        "resource = (johnURI, VCARD.FN, fullName)\n",
        "\n",
        "print(resource)\n",
        "\n",
        "g.add(resource)"
      ]
    },
    {
      "cell_type": "markdown",
      "metadata": {
        "id": "_r2IA6SHmkyh"
      },
      "source": [
        "Now we create another resource (Jane)"
      ]
    },
    {
      "cell_type": "markdown",
      "metadata": {
        "id": "wllA6e-enah6"
      },
      "source": [
        "We can abbreviate the previous task by using add(). Pay attention to the double parenthesis, as the add method expects a triple, not 3 parameters."
      ]
    },
    {
      "cell_type": "code",
      "execution_count": 5,
      "metadata": {
        "colab": {
          "base_uri": "https://localhost:8080/"
        },
        "id": "h6V6msiVnZzV",
        "outputId": "00f0cdd9-7aa4-41fe-8803-cf7fa91dbfb0"
      },
      "outputs": [
        {
          "output_type": "execute_result",
          "data": {
            "text/plain": [
              "<Graph identifier=Ndffbe82435b44e9c8f917956ce8a7765 (<class 'rdflib.graph.Graph'>)>"
            ]
          },
          "metadata": {},
          "execution_count": 5
        }
      ],
      "source": [
        "g.add((EX.JaneSmith, VCARD.FN, Literal(\"Jane Smith\")))\n",
        "g.add((EX.JaneSmith, VCARD.EMAIL, Literal(\"jsmith@example.org\")))"
      ]
    },
    {
      "cell_type": "markdown",
      "metadata": {
        "id": "_UPNqIOboSio"
      },
      "source": [
        "Now let's add a relationship between John and Jane using the FOAF vocabulary"
      ]
    },
    {
      "cell_type": "markdown",
      "metadata": {
        "id": "DkZjkRHEonAo"
      },
      "source": [
        "Some common vocabularies are native to RDFlib, so we don't need to declare them. FOAF is one of them."
      ]
    },
    {
      "cell_type": "code",
      "execution_count": 7,
      "metadata": {
        "id": "4jL9pXaYo1uN"
      },
      "outputs": [],
      "source": [
        "from rdflib import FOAF"
      ]
    },
    {
      "cell_type": "code",
      "execution_count": 8,
      "metadata": {
        "colab": {
          "base_uri": "https://localhost:8080/"
        },
        "id": "tDl33PvIo4Ga",
        "outputId": "5f4f732a-6d5d-4dfa-8160-5db4394c11a6"
      },
      "outputs": [
        {
          "output_type": "execute_result",
          "data": {
            "text/plain": [
              "<Graph identifier=Ndffbe82435b44e9c8f917956ce8a7765 (<class 'rdflib.graph.Graph'>)>"
            ]
          },
          "metadata": {},
          "execution_count": 8
        }
      ],
      "source": [
        "g.add((EX.JohnSmith, FOAF.knows, EX.JaneSmith))"
      ]
    },
    {
      "cell_type": "markdown",
      "metadata": {
        "id": "ZVs6mM7vr4Y7"
      },
      "source": [
        "Printing the result:"
      ]
    },
    {
      "cell_type": "code",
      "execution_count": 9,
      "metadata": {
        "colab": {
          "base_uri": "https://localhost:8080/"
        },
        "id": "ri30SNw8r67i",
        "outputId": "da88967a-bffa-4466-c13f-7806f8ec7f6e"
      },
      "outputs": [
        {
          "output_type": "stream",
          "name": "stdout",
          "text": [
            "@prefix ns1: <http://www.w3.org/2001/vcard-rdf/3.0#> .\n",
            "@prefix ns2: <http://xmlns.com/foaf/0.1/> .\n",
            "\n",
            "<http://example.org/JohnSmith> ns1:FN \"John Smith\" ;\n",
            "    ns2:knows <http://example.org/JaneSmith> .\n",
            "\n",
            "<http://example.org/JaneSmith> ns1:EMAIL \"jsmith@example.org\" ;\n",
            "    ns1:FN \"Jane Smith\" .\n",
            "\n",
            "\n"
          ]
        }
      ],
      "source": [
        "print(g.serialize(format=\"ttl\"))"
      ]
    },
    {
      "cell_type": "markdown",
      "metadata": {
        "id": "snlyRf9ulKut"
      },
      "source": [
        "You can also bind a prefix in the graph"
      ]
    },
    {
      "cell_type": "code",
      "execution_count": 10,
      "metadata": {
        "colab": {
          "base_uri": "https://localhost:8080/"
        },
        "id": "jn3APJbFlKut",
        "outputId": "4c22d386-0f73-46ce-bc10-7f3c28cbe1a5"
      },
      "outputs": [
        {
          "output_type": "stream",
          "name": "stdout",
          "text": [
            "@prefix ex: <http://example.org/> .\n",
            "@prefix ns1: <http://www.w3.org/2001/vcard-rdf/3.0#> .\n",
            "@prefix ns2: <http://xmlns.com/foaf/0.1/> .\n",
            "\n",
            "ex:JohnSmith ns1:FN \"John Smith\" ;\n",
            "    ns2:knows ex:JaneSmith .\n",
            "\n",
            "ex:JaneSmith ns1:EMAIL \"jsmith@example.org\" ;\n",
            "    ns1:FN \"Jane Smith\" .\n",
            "\n",
            "\n"
          ]
        }
      ],
      "source": [
        "g.namespace_manager.bind('ex', EX)\n",
        "print(g.serialize(format=\"ttl\"))"
      ]
    },
    {
      "cell_type": "code",
      "execution_count": null,
      "metadata": {
        "id": "049DK3qrlKut"
      },
      "outputs": [],
      "source": []
    }
  ],
  "metadata": {
    "colab": {
      "provenance": []
    },
    "kernelspec": {
      "display_name": "Python 3 (ipykernel)",
      "language": "python",
      "name": "python3"
    },
    "language_info": {
      "codemirror_mode": {
        "name": "ipython",
        "version": 3
      },
      "file_extension": ".py",
      "mimetype": "text/x-python",
      "name": "python",
      "nbconvert_exporter": "python",
      "pygments_lexer": "ipython3",
      "version": "3.9.5"
    }
  },
  "nbformat": 4,
  "nbformat_minor": 0
}