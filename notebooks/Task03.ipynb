{
  "cells": [
    {
      "cell_type": "markdown",
      "metadata": {
        "id": "e-bs2rTSdTWK"
      },
      "source": [
        "**TASK 3: Statement-based query**"
      ]
    },
    {
      "cell_type": "code",
      "execution_count": 1,
      "metadata": {
        "colab": {
          "base_uri": "https://localhost:8080/"
        },
        "id": "1nL5f5LXIU64",
        "outputId": "c9f47a7f-ff2a-4121-aae1-1ceb4e55f9dd"
      },
      "outputs": [
        {
          "output_type": "stream",
          "name": "stdout",
          "text": [
            "Looking in indexes: https://pypi.org/simple, https://us-python.pkg.dev/colab-wheels/public/simple/\n",
            "Collecting rdflib\n",
            "  Downloading rdflib-6.2.0-py3-none-any.whl (500 kB)\n",
            "\u001b[K     |████████████████████████████████| 500 kB 5.1 MB/s \n",
            "\u001b[?25hRequirement already satisfied: setuptools in /usr/local/lib/python3.8/dist-packages (from rdflib) (57.4.0)\n",
            "Requirement already satisfied: pyparsing in /usr/local/lib/python3.8/dist-packages (from rdflib) (3.0.9)\n",
            "Collecting isodate\n",
            "  Downloading isodate-0.6.1-py2.py3-none-any.whl (41 kB)\n",
            "\u001b[K     |████████████████████████████████| 41 kB 662 kB/s \n",
            "\u001b[?25hRequirement already satisfied: six in /usr/local/lib/python3.8/dist-packages (from isodate->rdflib) (1.15.0)\n",
            "Installing collected packages: isodate, rdflib\n",
            "Successfully installed isodate-0.6.1 rdflib-6.2.0\n"
          ]
        }
      ],
      "source": [
        "!pip install rdflib\n",
        "github_storage = \"https://raw.githubusercontent.com/FacultadInformatica-LinkedData/formacion_REALE/main\""
      ]
    },
    {
      "cell_type": "markdown",
      "metadata": {
        "id": "Q2MKrR3ko_OX"
      },
      "source": [
        "Import example3.rdf "
      ]
    },
    {
      "cell_type": "code",
      "execution_count": null,
      "metadata": {
        "colab": {
          "base_uri": "https://localhost:8080/",
          "height": 34
        },
        "id": "hoa1F3UZjPJB",
        "outputId": "5cfdd3a5-4b45-4513-db22-4ba5fb3bbc9d"
      },
      "outputs": [
        {
          "data": {
            "text/plain": [
              "<Graph identifier=N9e1b9a99a74049f29358ec7bcbecff74 (<class 'rdflib.graph.Graph'>)>"
            ]
          },
          "execution_count": 2,
          "metadata": {},
          "output_type": "execute_result"
        }
      ],
      "source": [
        "from rdflib import Graph, Namespace, Literal\n",
        "g = Graph()\n",
        "g.parse(github_storage+\"/rdf/example3.rdf\", format=\"xml\")"
      ]
    },
    {
      "cell_type": "markdown",
      "metadata": {
        "id": "N91ApjNcoWUb"
      },
      "source": [
        "List all resources with property VCARD:FN"
      ]
    },
    {
      "cell_type": "code",
      "execution_count": null,
      "metadata": {
        "colab": {
          "base_uri": "https://localhost:8080/",
          "height": 86
        },
        "id": "HZvdSsYPob9c",
        "outputId": "46ae8da6-b062-4b92-ba7f-01a50a1fc24a"
      },
      "outputs": [
        {
          "name": "stdout",
          "output_type": "stream",
          "text": [
            "http://somewhere#JaneSmith\n",
            "http://somewhere#JohnSmith\n",
            "http://somewhere#SarahJones\n",
            "http://somewhere#MattJones\n"
          ]
        }
      ],
      "source": [
        "VCARD = Namespace(\"http://www.w3.org/2001/vcard-rdf/3.0#\")\n",
        "\n",
        "for s,p,o in g.triples((None, VCARD.FN, None)):\n",
        "  print(s)"
      ]
    },
    {
      "cell_type": "markdown",
      "metadata": {
        "id": "AwON24ezpGER"
      },
      "source": [
        "Next we list the full name of the resources(VCARD:FN) "
      ]
    },
    {
      "cell_type": "code",
      "execution_count": null,
      "metadata": {
        "colab": {
          "base_uri": "https://localhost:8080/",
          "height": 86
        },
        "id": "GuUH14N_qMw5",
        "outputId": "0888ae6f-750c-4980-9e20-9ba1bbb7c54a"
      },
      "outputs": [
        {
          "name": "stdout",
          "output_type": "stream",
          "text": [
            "Jane Smith\n",
            "John Smith\n",
            "Sarah Jones\n",
            "Matt Jones\n"
          ]
        }
      ],
      "source": [
        "for s,p,o in g.triples((None, VCARD.FN, None)):\n",
        "  print(o)"
      ]
    },
    {
      "cell_type": "markdown",
      "metadata": {
        "id": "Li7h14r1qdNC"
      },
      "source": [
        "Now let us list all the resources with from the \"Smith\" family. We have to take into account the type of the literals in our graph. In our case these are XSD String (http://www.w3.org/2001/XMLSchema#string). When searching we should indicate the type, or otherwise the comparison will fail."
      ]
    },
    {
      "cell_type": "code",
      "execution_count": null,
      "metadata": {
        "colab": {
          "base_uri": "https://localhost:8080/",
          "height": 72
        },
        "id": "U8yF1N5IqqIx",
        "outputId": "cdac9107-06c7-4ebe-ee80-938a9bdf3126"
      },
      "outputs": [
        {
          "name": "stdout",
          "output_type": "stream",
          "text": [
            "(rdflib.term.URIRef('http://somewhere#JaneSmith'), rdflib.term.URIRef('http://www.w3.org/2001/vcard-rdf/3.0#Family'), rdflib.term.Literal('Smith', datatype=rdflib.term.URIRef('http://www.w3.org/2001/XMLSchema#string')))\n",
            "(rdflib.term.URIRef('http://somewhere#JohnSmith'), rdflib.term.URIRef('http://www.w3.org/2001/vcard-rdf/3.0#Family'), rdflib.term.Literal('Smith', datatype=rdflib.term.URIRef('http://www.w3.org/2001/XMLSchema#string')))\n"
          ]
        }
      ],
      "source": [
        "from rdflib import XSD\n",
        "for t in g.triples((None, VCARD.Family, Literal('Smith', datatype=XSD.string))):\n",
        "  print(t)"
      ]
    },
    {
      "cell_type": "code",
      "execution_count": null,
      "metadata": {
        "colab": {
          "base_uri": "https://localhost:8080/",
          "height": 121
        },
        "id": "G8ZwYJAAr_a-",
        "outputId": "ff4675a6-a131-4695-be42-f33c750fe742"
      },
      "outputs": [
        {
          "name": "stdout",
          "output_type": "stream",
          "text": [
            "False\n",
            "False\n",
            "False\n",
            "True\n",
            "http://www.w3.org/2001/XMLSchema#integer\n",
            "None\n"
          ]
        },
        {
          "name": "stderr",
          "output_type": "stream",
          "text": [
            "/tmp/ipykernel_24348/2638366893.py:1: UserWarning: Code: number is not defined in namespace XSD\n",
            "  print(Literal(1, datatype=XSD.number).eq(Literal(\"1\", datatype=XSD.string)))\n",
            "/tmp/ipykernel_24348/2638366893.py:2: UserWarning: Code: number is not defined in namespace XSD\n",
            "  print(Literal(1, datatype=XSD.number).eq(Literal(1, datatype=XSD.string)))\n",
            "/tmp/ipykernel_24348/2638366893.py:3: UserWarning: Code: number is not defined in namespace XSD\n",
            "  print(Literal(1).eq(Literal(1, datatype=XSD.number)))\n",
            "/tmp/ipykernel_24348/2638366893.py:4: UserWarning: Code: number is not defined in namespace XSD\n",
            "  print(Literal(1, datatype=XSD.number).eq(Literal(1, datatype=XSD.number)))\n"
          ]
        }
      ],
      "source": [
        "print(Literal(1, datatype=XSD.number).eq(Literal(\"1\", datatype=XSD.string)))\n",
        "print(Literal(1, datatype=XSD.number).eq(Literal(1, datatype=XSD.string)))\n",
        "print(Literal(1).eq(Literal(1, datatype=XSD.number)))\n",
        "print(Literal(1, datatype=XSD.number).eq(Literal(1, datatype=XSD.number)))\n",
        "print(Literal(1).datatype)\n",
        "print(Literal(\"1\").datatype)"
      ]
    },
    {
      "cell_type": "markdown",
      "metadata": {
        "id": "JH874OClyxdV"
      },
      "source": [
        "List all reosurces with email"
      ]
    },
    {
      "cell_type": "code",
      "execution_count": null,
      "metadata": {
        "colab": {
          "base_uri": "https://localhost:8080/",
          "height": 52
        },
        "id": "Wi4kiUdty6KW",
        "outputId": "4dcc7a92-d836-4399-fedb-f66c17664f27"
      },
      "outputs": [
        {
          "name": "stdout",
          "output_type": "stream",
          "text": [
            "http://somewhere#JaneSmith http://xmlns.com/foaf/0.1/email jSmith@somewhere.com\n",
            "http://somewhere#SarahJones http://xmlns.com/foaf/0.1/email sJones@somewhere.com\n"
          ]
        }
      ],
      "source": [
        "#from rdflib import FOAF\n",
        "FOAF = Namespace(\"http://xmlns.com/foaf/0.1/\")\n",
        "for s,p,o in g.triples((None, FOAF.email, None)):\n",
        "  print(s,p,o)"
      ]
    },
    {
      "cell_type": "markdown",
      "metadata": {
        "id": "HAKPjbEf3WxX"
      },
      "source": [
        "List all subjects who know \"Jane Smith\" by their given name (VCARD:Given)."
      ]
    },
    {
      "cell_type": "code",
      "execution_count": null,
      "metadata": {
        "colab": {
          "base_uri": "https://localhost:8080/",
          "height": 52
        },
        "id": "dGSw7O-c3pCr",
        "outputId": "fc203e4e-e92f-41fc-be32-4f59c63e2023"
      },
      "outputs": [
        {
          "name": "stdout",
          "output_type": "stream",
          "text": [
            "John\n",
            "Matt\n"
          ]
        }
      ],
      "source": [
        "janeSmithURI = g.value(subject=None, predicate=VCARD.FN, object=Literal(\"Jane Smith\"))\n",
        "\n",
        "knows = g.triples((None, FOAF.knows, janeSmithURI))\n",
        "\n",
        "for s,p,o in knows:\n",
        "  \n",
        "  givenName = g.value(subject=s, predicate=VCARD.Given, object=None)\n",
        "\n",
        "  print(givenName)"
      ]
    },
    {
      "cell_type": "code",
      "execution_count": null,
      "metadata": {
        "id": "UuQOxQw4lLf-"
      },
      "outputs": [],
      "source": []
    }
  ],
  "metadata": {
    "colab": {
      "provenance": []
    },
    "kernelspec": {
      "display_name": "Python 3 (ipykernel)",
      "language": "python",
      "name": "python3"
    },
    "language_info": {
      "codemirror_mode": {
        "name": "ipython",
        "version": 3
      },
      "file_extension": ".py",
      "mimetype": "text/x-python",
      "name": "python",
      "nbconvert_exporter": "python",
      "pygments_lexer": "ipython3",
      "version": "3.9.5"
    }
  },
  "nbformat": 4,
  "nbformat_minor": 0
}