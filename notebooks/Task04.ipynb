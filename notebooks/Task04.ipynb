{
  "cells": [
    {
      "cell_type": "markdown",
      "metadata": {
        "id": "bSxs0offXU_C"
      },
      "source": [
        "**Task 04: Graph querying**"
      ]
    },
    {
      "cell_type": "code",
      "execution_count": null,
      "metadata": {
        "id": "eEaNOAcHW8He"
      },
      "outputs": [],
      "source": [
        "!pip install rdflib\n",
        "github_storage = \"https://raw.githubusercontent.com/FacultadInformatica-LinkedData/formacion_REALE/main\""
      ]
    },
    {
      "cell_type": "code",
      "execution_count": null,
      "metadata": {
        "id": "UqDyQeinXUxT"
      },
      "outputs": [],
      "source": [
        "from rdflib import Graph, Namespace, Literal\n",
        "g = Graph()\n",
        "g.parse(github_storage+\"/rdf/example3.rdf\", format=\"xml\")"
      ]
    },
    {
      "cell_type": "markdown",
      "metadata": {
        "id": "vx7JZWjj6oZu"
      },
      "source": [
        "List all resources with property VCARD:FN"
      ]
    },
    {
      "cell_type": "code",
      "execution_count": null,
      "metadata": {
        "id": "iSQog8i6XiI2"
      },
      "outputs": [],
      "source": [
        "from rdflib.plugins.sparql import prepareQuery\n",
        "\n",
        "\n",
        "VCARD = Namespace(\"http://www.w3.org/2001/vcard-rdf/3.0#\")\n",
        "\n",
        "\n",
        "q1 = prepareQuery('''\n",
        "  SELECT ?Subject WHERE { \n",
        "    ?Subject vcard:FN ?FullName. \n",
        "  }\n",
        "  ''',\n",
        "  initNs = { \"vcard\": VCARD}\n",
        ")\n",
        "\n",
        "\n",
        "for r in g.query(q1):\n",
        "  print(r.Subject)"
      ]
    },
    {
      "cell_type": "markdown",
      "metadata": {
        "id": "ZAXn1nMO6vlp"
      },
      "source": [
        "Let's repeat the previous query but asking for the full name of the resources"
      ]
    },
    {
      "cell_type": "code",
      "execution_count": null,
      "metadata": {
        "id": "R4BKqgkpcVgf"
      },
      "outputs": [],
      "source": [
        "q2 = prepareQuery('''\n",
        "  SELECT ?Subject ?FullName WHERE { \n",
        "    ?Subject vcard:FN ?FullName.\n",
        "  } \n",
        "  ''',\n",
        "  initNs = { \"vcard\": VCARD}\n",
        ")\n",
        "\n",
        "for r in g.query(q2):\n",
        "  print(r.Subject, r.FullName)"
      ]
    },
    {
      "cell_type": "markdown",
      "metadata": {
        "id": "09HdH0eG68Dd"
      },
      "source": [
        "Retrieve all resources that have \"Smith\" as family name"
      ]
    },
    {
      "cell_type": "code",
      "execution_count": null,
      "metadata": {
        "id": "sPGjq-AEcvEN"
      },
      "outputs": [],
      "source": [
        "from rdflib import XSD\n",
        "\n",
        "q3 = prepareQuery('''\n",
        "  SELECT ?Subject WHERE { \n",
        "    ?Subject vcard:Family ?Family.\n",
        "  } \n",
        "  ''',\n",
        "  initNs = { \"vcard\": VCARD}\n",
        ")\n",
        "\n",
        "for r in g.query(q3, initBindings = {'?Family' : Literal('Smith', datatype=XSD.string)}):\n",
        "  print(r.Subject)"
      ]
    },
    {
      "cell_type": "markdown",
      "metadata": {
        "id": "3ZoGdkYW7Fuj"
      },
      "source": [
        "Obtain all elements with an email"
      ]
    },
    {
      "cell_type": "code",
      "execution_count": null,
      "metadata": {
        "id": "0cM7u_jpeQVt"
      },
      "outputs": [],
      "source": [
        "from rdflib import FOAF\n",
        "\n",
        "q4 = prepareQuery('''\n",
        "  SELECT ?Subject ?Email WHERE { \n",
        "    ?Subject foaf:email ?Email.\n",
        "  } \n",
        "  ''',\n",
        "  initNs = { \"foaf\": FOAF}\n",
        ")\n",
        "\n",
        "for r in g.query(q4):\n",
        "  print(r.Subject,r.Email)"
      ]
    },
    {
      "cell_type": "markdown",
      "metadata": {
        "id": "OAMYrwd57E_Y"
      },
      "source": [
        "Who knows (FOAF:knows)  \"Jane Smith\"? Retrieve their name (VCARD:Given)"
      ]
    },
    {
      "cell_type": "code",
      "execution_count": null,
      "metadata": {
        "id": "L-i2jJahkhuN"
      },
      "outputs": [],
      "source": [
        "q5 = prepareQuery('''\n",
        "  SELECT  ?Subject ?Given  WHERE {\n",
        "    ?Subject foaf:knows ?JaneSmith.\n",
        "\t?JaneSmith vcard:FN ?JaneSmithFullName.\n",
        "\t?Subject vcard:Given ?Given.\n",
        "  }  \n",
        "  ''',\n",
        "  initNs = { \"foaf\": FOAF, \"vcard\": VCARD, \"xsd\":XSD}\n",
        ")\n",
        "\n",
        "for r in g.query(q5, initBindings = {'?JaneSmithFullName' : Literal('Jane Smith', datatype=XSD.string)}):\n",
        "  print(r.Subject, r.Given)"
      ]
    },
    {
      "cell_type": "markdown",
      "source": [
        "Now let's try to query an external SPARQL endpoint. Query DBpedia to retrieve the top 10 countries with more politicians.\n",
        "\n",
        "We need another library called sparql wrapper"
      ],
      "metadata": {
        "id": "6GM_xAFaZoSn"
      }
    },
    {
      "cell_type": "code",
      "source": [
        "!pip install SPARQLWrapper"
      ],
      "metadata": {
        "id": "b97lIFCfgFhv"
      },
      "execution_count": null,
      "outputs": []
    },
    {
      "cell_type": "code",
      "source": [
        "from SPARQLWrapper import SPARQLWrapper, JSON\n",
        "\n",
        "sparql = SPARQLWrapper(\"http://dbpedia.org/sparql\")\n",
        "sparql.setReturnFormat(JSON)\n",
        "sparql.setQuery(\"\"\"\n",
        "    select ?bp (count(?p) as ?num_politicians) \n",
        "    WHERE {\n",
        "        ?p a <http://dbpedia.org/ontology/Politician>.\n",
        "        ?p <http://dbpedia.org/ontology/birthPlace> ?bp.\n",
        "        ?bp a <http://dbpedia.org/ontology/Country> \n",
        "    }group by ?bp order by desc (?num_politicians) limit 10\n",
        "\"\"\")\n",
        "\n",
        "try:\n",
        "    for result in sparql.queryAndConvert()[\"results\"][\"bindings\"]:\n",
        "      print(result['bp']['value'],result['num_politicians']['value'])\n",
        "except Exception as e:\n",
        "    print(e)"
      ],
      "metadata": {
        "id": "yEN8ZM3Zf6XJ"
      },
      "execution_count": null,
      "outputs": []
    }
  ],
  "metadata": {
    "colab": {
      "provenance": []
    },
    "kernelspec": {
      "display_name": "Python 3 (ipykernel)",
      "language": "python",
      "name": "python3"
    },
    "language_info": {
      "codemirror_mode": {
        "name": "ipython",
        "version": 3
      },
      "file_extension": ".py",
      "mimetype": "text/x-python",
      "name": "python",
      "nbconvert_exporter": "python",
      "pygments_lexer": "ipython3",
      "version": "3.9.5"
    }
  },
  "nbformat": 4,
  "nbformat_minor": 0
}